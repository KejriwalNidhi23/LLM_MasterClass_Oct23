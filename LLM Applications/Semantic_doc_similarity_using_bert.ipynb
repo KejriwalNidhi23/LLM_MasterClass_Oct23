{
  "nbformat": 4,
  "nbformat_minor": 0,
  "metadata": {
    "colab": {
      "provenance": []
    },
    "kernelspec": {
      "name": "python3",
      "display_name": "Python 3"
    },
    "widgets": {
      "application/vnd.jupyter.widget-state+json": {
        "9eb2963aaab64657b29c5db6e8acf874": {
          "model_module": "@jupyter-widgets/controls",
          "model_name": "HBoxModel",
          "state": {
            "_view_name": "HBoxView",
            "_dom_classes": [],
            "_model_name": "HBoxModel",
            "_view_module": "@jupyter-widgets/controls",
            "_model_module_version": "1.5.0",
            "_view_count": null,
            "_view_module_version": "1.5.0",
            "box_style": "",
            "layout": "IPY_MODEL_1f75ffd98e6649f79a6d6130a957f3ca",
            "_model_module": "@jupyter-widgets/controls",
            "children": [
              "IPY_MODEL_1c4bba4ae31546708850bb9b251a2dec",
              "IPY_MODEL_0730bc43c51741e9ae5513d814864a76"
            ]
          },
          "model_module_version": "1.5.0"
        },
        "1f75ffd98e6649f79a6d6130a957f3ca": {
          "model_module": "@jupyter-widgets/base",
          "model_name": "LayoutModel",
          "state": {
            "_view_name": "LayoutView",
            "grid_template_rows": null,
            "right": null,
            "justify_content": null,
            "_view_module": "@jupyter-widgets/base",
            "overflow": null,
            "_model_module_version": "1.2.0",
            "_view_count": null,
            "flex_flow": null,
            "width": null,
            "min_width": null,
            "border": null,
            "align_items": null,
            "bottom": null,
            "_model_module": "@jupyter-widgets/base",
            "top": null,
            "grid_column": null,
            "overflow_y": null,
            "overflow_x": null,
            "grid_auto_flow": null,
            "grid_area": null,
            "grid_template_columns": null,
            "flex": null,
            "_model_name": "LayoutModel",
            "justify_items": null,
            "grid_row": null,
            "max_height": null,
            "align_content": null,
            "visibility": null,
            "align_self": null,
            "height": null,
            "min_height": null,
            "padding": null,
            "grid_auto_rows": null,
            "grid_gap": null,
            "max_width": null,
            "order": null,
            "_view_module_version": "1.2.0",
            "grid_template_areas": null,
            "object_position": null,
            "object_fit": null,
            "grid_auto_columns": null,
            "margin": null,
            "display": null,
            "left": null
          },
          "model_module_version": "1.2.0"
        },
        "1c4bba4ae31546708850bb9b251a2dec": {
          "model_module": "@jupyter-widgets/controls",
          "model_name": "FloatProgressModel",
          "state": {
            "_view_name": "ProgressView",
            "style": "IPY_MODEL_85a8cb7913ff49058a1bd6a6d3573afc",
            "_dom_classes": [],
            "description": "Batches: 100%",
            "_model_name": "FloatProgressModel",
            "bar_style": "success",
            "max": 1,
            "_view_module": "@jupyter-widgets/controls",
            "_model_module_version": "1.5.0",
            "value": 1,
            "_view_count": null,
            "_view_module_version": "1.5.0",
            "orientation": "horizontal",
            "min": 0,
            "description_tooltip": null,
            "_model_module": "@jupyter-widgets/controls",
            "layout": "IPY_MODEL_d3e0846ea2304f3197a21f817fe305f2"
          },
          "model_module_version": "1.5.0"
        },
        "0730bc43c51741e9ae5513d814864a76": {
          "model_module": "@jupyter-widgets/controls",
          "model_name": "HTMLModel",
          "state": {
            "_view_name": "HTMLView",
            "style": "IPY_MODEL_14e26b99e39541bdb213e7c7341dac59",
            "_dom_classes": [],
            "description": "",
            "_model_name": "HTMLModel",
            "placeholder": "​",
            "_view_module": "@jupyter-widgets/controls",
            "_model_module_version": "1.5.0",
            "value": " 1/1 [00:00&lt;00:00,  1.06it/s]",
            "_view_count": null,
            "_view_module_version": "1.5.0",
            "description_tooltip": null,
            "_model_module": "@jupyter-widgets/controls",
            "layout": "IPY_MODEL_01464df8d7524c609e620b3e11520bd2"
          },
          "model_module_version": "1.5.0"
        },
        "85a8cb7913ff49058a1bd6a6d3573afc": {
          "model_module": "@jupyter-widgets/controls",
          "model_name": "ProgressStyleModel",
          "state": {
            "_view_name": "StyleView",
            "_model_name": "ProgressStyleModel",
            "description_width": "initial",
            "_view_module": "@jupyter-widgets/base",
            "_model_module_version": "1.5.0",
            "_view_count": null,
            "_view_module_version": "1.2.0",
            "bar_color": null,
            "_model_module": "@jupyter-widgets/controls"
          },
          "model_module_version": "1.5.0"
        },
        "d3e0846ea2304f3197a21f817fe305f2": {
          "model_module": "@jupyter-widgets/base",
          "model_name": "LayoutModel",
          "state": {
            "_view_name": "LayoutView",
            "grid_template_rows": null,
            "right": null,
            "justify_content": null,
            "_view_module": "@jupyter-widgets/base",
            "overflow": null,
            "_model_module_version": "1.2.0",
            "_view_count": null,
            "flex_flow": null,
            "width": null,
            "min_width": null,
            "border": null,
            "align_items": null,
            "bottom": null,
            "_model_module": "@jupyter-widgets/base",
            "top": null,
            "grid_column": null,
            "overflow_y": null,
            "overflow_x": null,
            "grid_auto_flow": null,
            "grid_area": null,
            "grid_template_columns": null,
            "flex": null,
            "_model_name": "LayoutModel",
            "justify_items": null,
            "grid_row": null,
            "max_height": null,
            "align_content": null,
            "visibility": null,
            "align_self": null,
            "height": null,
            "min_height": null,
            "padding": null,
            "grid_auto_rows": null,
            "grid_gap": null,
            "max_width": null,
            "order": null,
            "_view_module_version": "1.2.0",
            "grid_template_areas": null,
            "object_position": null,
            "object_fit": null,
            "grid_auto_columns": null,
            "margin": null,
            "display": null,
            "left": null
          },
          "model_module_version": "1.2.0"
        },
        "14e26b99e39541bdb213e7c7341dac59": {
          "model_module": "@jupyter-widgets/controls",
          "model_name": "DescriptionStyleModel",
          "state": {
            "_view_name": "StyleView",
            "_model_name": "DescriptionStyleModel",
            "description_width": "",
            "_view_module": "@jupyter-widgets/base",
            "_model_module_version": "1.5.0",
            "_view_count": null,
            "_view_module_version": "1.2.0",
            "_model_module": "@jupyter-widgets/controls"
          },
          "model_module_version": "1.5.0"
        },
        "01464df8d7524c609e620b3e11520bd2": {
          "model_module": "@jupyter-widgets/base",
          "model_name": "LayoutModel",
          "state": {
            "_view_name": "LayoutView",
            "grid_template_rows": null,
            "right": null,
            "justify_content": null,
            "_view_module": "@jupyter-widgets/base",
            "overflow": null,
            "_model_module_version": "1.2.0",
            "_view_count": null,
            "flex_flow": null,
            "width": null,
            "min_width": null,
            "border": null,
            "align_items": null,
            "bottom": null,
            "_model_module": "@jupyter-widgets/base",
            "top": null,
            "grid_column": null,
            "overflow_y": null,
            "overflow_x": null,
            "grid_auto_flow": null,
            "grid_area": null,
            "grid_template_columns": null,
            "flex": null,
            "_model_name": "LayoutModel",
            "justify_items": null,
            "grid_row": null,
            "max_height": null,
            "align_content": null,
            "visibility": null,
            "align_self": null,
            "height": null,
            "min_height": null,
            "padding": null,
            "grid_auto_rows": null,
            "grid_gap": null,
            "max_width": null,
            "order": null,
            "_view_module_version": "1.2.0",
            "grid_template_areas": null,
            "object_position": null,
            "object_fit": null,
            "grid_auto_columns": null,
            "margin": null,
            "display": null,
            "left": null
          },
          "model_module_version": "1.2.0"
        }
      }
    }
  },
  "cells": [
    {
      "cell_type": "code",
      "metadata": {
        "id": "ksARwjaVnCjd",
        "outputId": "366a6004-a9cb-4117-e899-c0625bbfa100",
        "colab": {
          "base_uri": "https://localhost:8080/",
          "height": 462
        }
      },
      "source": [
        "!pip install -U sentence-transformers"
      ],
      "execution_count": null,
      "outputs": [
        {
          "output_type": "stream",
          "text": [
            "Requirement already up-to-date: sentence-transformers in /usr/local/lib/python3.6/dist-packages (0.3.6)\n",
            "Requirement already satisfied, skipping upgrade: scipy in /usr/local/lib/python3.6/dist-packages (from sentence-transformers) (1.4.1)\n",
            "Requirement already satisfied, skipping upgrade: numpy in /usr/local/lib/python3.6/dist-packages (from sentence-transformers) (1.18.5)\n",
            "Requirement already satisfied, skipping upgrade: transformers<3.2.0,>=3.1.0 in /usr/local/lib/python3.6/dist-packages (from sentence-transformers) (3.1.0)\n",
            "Requirement already satisfied, skipping upgrade: torch>=1.2.0 in /usr/local/lib/python3.6/dist-packages (from sentence-transformers) (1.6.0+cu101)\n",
            "Requirement already satisfied, skipping upgrade: tqdm in /usr/local/lib/python3.6/dist-packages (from sentence-transformers) (4.41.1)\n",
            "Requirement already satisfied, skipping upgrade: scikit-learn in /usr/local/lib/python3.6/dist-packages (from sentence-transformers) (0.22.2.post1)\n",
            "Requirement already satisfied, skipping upgrade: nltk in /usr/local/lib/python3.6/dist-packages (from sentence-transformers) (3.2.5)\n",
            "Requirement already satisfied, skipping upgrade: filelock in /usr/local/lib/python3.6/dist-packages (from transformers<3.2.0,>=3.1.0->sentence-transformers) (3.0.12)\n",
            "Requirement already satisfied, skipping upgrade: sentencepiece!=0.1.92 in /usr/local/lib/python3.6/dist-packages (from transformers<3.2.0,>=3.1.0->sentence-transformers) (0.1.91)\n",
            "Requirement already satisfied, skipping upgrade: sacremoses in /usr/local/lib/python3.6/dist-packages (from transformers<3.2.0,>=3.1.0->sentence-transformers) (0.0.43)\n",
            "Requirement already satisfied, skipping upgrade: packaging in /usr/local/lib/python3.6/dist-packages (from transformers<3.2.0,>=3.1.0->sentence-transformers) (20.4)\n",
            "Requirement already satisfied, skipping upgrade: requests in /usr/local/lib/python3.6/dist-packages (from transformers<3.2.0,>=3.1.0->sentence-transformers) (2.23.0)\n",
            "Requirement already satisfied, skipping upgrade: regex!=2019.12.17 in /usr/local/lib/python3.6/dist-packages (from transformers<3.2.0,>=3.1.0->sentence-transformers) (2019.12.20)\n",
            "Requirement already satisfied, skipping upgrade: dataclasses; python_version < \"3.7\" in /usr/local/lib/python3.6/dist-packages (from transformers<3.2.0,>=3.1.0->sentence-transformers) (0.7)\n",
            "Requirement already satisfied, skipping upgrade: tokenizers==0.8.1.rc2 in /usr/local/lib/python3.6/dist-packages (from transformers<3.2.0,>=3.1.0->sentence-transformers) (0.8.1rc2)\n",
            "Requirement already satisfied, skipping upgrade: future in /usr/local/lib/python3.6/dist-packages (from torch>=1.2.0->sentence-transformers) (0.16.0)\n",
            "Requirement already satisfied, skipping upgrade: joblib>=0.11 in /usr/local/lib/python3.6/dist-packages (from scikit-learn->sentence-transformers) (0.16.0)\n",
            "Requirement already satisfied, skipping upgrade: six in /usr/local/lib/python3.6/dist-packages (from nltk->sentence-transformers) (1.15.0)\n",
            "Requirement already satisfied, skipping upgrade: click in /usr/local/lib/python3.6/dist-packages (from sacremoses->transformers<3.2.0,>=3.1.0->sentence-transformers) (7.1.2)\n",
            "Requirement already satisfied, skipping upgrade: pyparsing>=2.0.2 in /usr/local/lib/python3.6/dist-packages (from packaging->transformers<3.2.0,>=3.1.0->sentence-transformers) (2.4.7)\n",
            "Requirement already satisfied, skipping upgrade: idna<3,>=2.5 in /usr/local/lib/python3.6/dist-packages (from requests->transformers<3.2.0,>=3.1.0->sentence-transformers) (2.10)\n",
            "Requirement already satisfied, skipping upgrade: certifi>=2017.4.17 in /usr/local/lib/python3.6/dist-packages (from requests->transformers<3.2.0,>=3.1.0->sentence-transformers) (2020.6.20)\n",
            "Requirement already satisfied, skipping upgrade: chardet<4,>=3.0.2 in /usr/local/lib/python3.6/dist-packages (from requests->transformers<3.2.0,>=3.1.0->sentence-transformers) (3.0.4)\n",
            "Requirement already satisfied, skipping upgrade: urllib3!=1.25.0,!=1.25.1,<1.26,>=1.21.1 in /usr/local/lib/python3.6/dist-packages (from requests->transformers<3.2.0,>=3.1.0->sentence-transformers) (1.24.3)\n"
          ],
          "name": "stdout"
        }
      ]
    },
    {
      "cell_type": "code",
      "metadata": {
        "id": "UYePUfeYnO-D"
      },
      "source": [
        "from sentence_transformers import SentenceTransformer\n",
        "from sentence_transformers import models, losses\n",
        "import pandas as pd\n",
        "import numpy as np\n",
        "from tqdm import tqdm\n",
        "from sklearn.metrics.pairwise import cosine_similarity"
      ],
      "execution_count": null,
      "outputs": []
    },
    {
      "cell_type": "code",
      "metadata": {
        "id": "3nKC0-gsnSSG"
      },
      "source": [
        "documents = [\n",
        "             \"Vodafone Wins ₹ 20,000 Crore Tax Arbitration Case Against Government\",\n",
        "             \"Voda Idea shares jump nearly 15% as Vodafone wins retro tax case in Hague\",\n",
        "             \"Gold prices today fall for 4th time in 5 days, down ₹6500 from last month high\",\n",
        "             \"Silver futures slip 0.36% to Rs 59,415 per kg, down over 12% this week\",\n",
        "             \"Amazon unveils drone that films inside your home. What could go wrong?\",\n",
        "             \"IPHONE 12 MINI PERFORMANCE MAY DISAPPOINT DUE TO THE APPLE B14 CHIP\",\n",
        "             \"Delhi Capitals vs Chennai Super Kings: Prithvi Shaw shines as DC beat CSK to post second consecutive win in IPL\",\n",
        "             \"French Open 2020: Rafael Nadal handed tough draw in bid for record-equaling 20th Grand Slam\"\n",
        "]"
      ],
      "execution_count": null,
      "outputs": []
    },
    {
      "cell_type": "code",
      "metadata": {
        "id": "9navHmXWpIpZ"
      },
      "source": [
        "model = SentenceTransformer('bert-base-nli-mean-tokens')"
      ],
      "execution_count": null,
      "outputs": []
    },
    {
      "cell_type": "code",
      "metadata": {
        "id": "SYgDmhsDpKkq",
        "outputId": "13689c39-7674-4688-c234-5ddf5d4f0907",
        "colab": {
          "base_uri": "https://localhost:8080/",
          "height": 66,
          "referenced_widgets": [
            "9eb2963aaab64657b29c5db6e8acf874",
            "1f75ffd98e6649f79a6d6130a957f3ca",
            "1c4bba4ae31546708850bb9b251a2dec",
            "0730bc43c51741e9ae5513d814864a76",
            "85a8cb7913ff49058a1bd6a6d3573afc",
            "d3e0846ea2304f3197a21f817fe305f2",
            "14e26b99e39541bdb213e7c7341dac59",
            "01464df8d7524c609e620b3e11520bd2"
          ]
        }
      },
      "source": [
        "text_embeddings = model.encode(documents, batch_size = 8, show_progress_bar = True)"
      ],
      "execution_count": null,
      "outputs": [
        {
          "output_type": "display_data",
          "data": {
            "application/vnd.jupyter.widget-view+json": {
              "model_id": "9eb2963aaab64657b29c5db6e8acf874",
              "version_minor": 0,
              "version_major": 2
            },
            "text/plain": [
              "HBox(children=(FloatProgress(value=0.0, description='Batches', max=1.0, style=ProgressStyle(description_width=…"
            ]
          },
          "metadata": {
            "tags": []
          }
        },
        {
          "output_type": "stream",
          "text": [
            "\n"
          ],
          "name": "stdout"
        }
      ]
    },
    {
      "cell_type": "code",
      "metadata": {
        "id": "lEuppjEHpRei",
        "outputId": "ea63e4ec-8503-4ec9-9f5e-2e8e696569ce",
        "colab": {
          "base_uri": "https://localhost:8080/",
          "height": 34
        }
      },
      "source": [
        "np.shape(text_embeddings)"
      ],
      "execution_count": null,
      "outputs": [
        {
          "output_type": "execute_result",
          "data": {
            "text/plain": [
              "(8, 768)"
            ]
          },
          "metadata": {
            "tags": []
          },
          "execution_count": 20
        }
      ]
    },
    {
      "cell_type": "code",
      "metadata": {
        "id": "Vdf0qWxMpZ24",
        "outputId": "1d81c612-44e8-40bd-d671-ff77aa29c68c",
        "colab": {
          "base_uri": "https://localhost:8080/",
          "height": 1000
        }
      },
      "source": [
        "text_embeddings[0]"
      ],
      "execution_count": null,
      "outputs": [
        {
          "output_type": "execute_result",
          "data": {
            "text/plain": [
              "array([-5.40525794e-01,  6.00088418e-01, -8.66845071e-01, -2.36480385e-02,\n",
              "        4.97292191e-01, -9.92555380e-01, -8.98763388e-02,  2.14673892e-01,\n",
              "       -4.15619433e-01,  3.77355039e-01,  2.12203339e-02,  7.68508762e-02,\n",
              "        7.93067873e-01,  3.73296589e-01, -4.06942546e-01,  3.03442955e-01,\n",
              "       -2.73728639e-01,  7.77526617e-01,  4.18804020e-01, -3.79587412e-01,\n",
              "       -5.18467367e-01, -3.86682361e-01,  1.40491962e-01,  3.92924994e-01,\n",
              "        1.25592375e+00,  1.01846051e+00, -3.18522632e-01, -4.48496163e-01,\n",
              "       -6.34720027e-01,  1.05968070e+00, -3.59199673e-01,  6.78094864e-01,\n",
              "       -1.12104738e+00,  5.79504631e-02, -3.17632109e-01,  3.43559206e-01,\n",
              "       -2.53599763e-01, -3.39961112e-01,  7.63888238e-03, -3.33335400e-01,\n",
              "        3.83739948e-01, -3.31468523e-01, -7.17471004e-01,  1.04172729e-01,\n",
              "       -1.25842237e+00, -5.36772013e-01,  3.79816085e-01,  3.87729973e-01,\n",
              "        2.95915008e-01, -6.47331476e-01,  5.11865139e-01,  3.08833838e-01,\n",
              "        6.18681759e-02, -8.52289915e-01, -9.28611457e-01,  2.07909390e-01,\n",
              "       -1.86626837e-01,  5.19682653e-02, -6.40803456e-01, -4.82586026e-01,\n",
              "       -5.11883080e-01,  3.98300529e-01, -6.26717091e-01, -3.30148131e-01,\n",
              "       -2.71549672e-01, -3.03286076e-01,  3.13148439e-01,  1.50242281e+00,\n",
              "       -8.05997968e-01, -5.35737991e-01,  8.36010799e-02, -6.81921065e-01,\n",
              "       -7.41510093e-01, -2.36340046e-01,  4.95614380e-01, -7.29670167e-01,\n",
              "       -7.99646497e-01,  4.83473778e-01,  1.09801567e+00, -1.46270245e-02,\n",
              "       -4.38696116e-01, -4.24654782e-02,  5.91710806e-01, -4.12823200e-01,\n",
              "        4.27795082e-01, -8.60588074e-01,  4.88963693e-01, -1.11923778e+00,\n",
              "       -5.81968725e-01,  1.41505018e-01,  1.25394499e+00, -2.20174789e-01,\n",
              "        4.97379929e-01, -6.99371323e-02, -1.50393271e+00, -5.91212034e-01,\n",
              "       -1.81334153e-01, -5.93106091e-01,  1.60526931e-01, -4.68592077e-01,\n",
              "       -1.23952992e-01, -8.80392075e-01, -9.85943973e-01,  1.83794454e-01,\n",
              "        7.78767020e-02,  4.77587432e-01, -3.19408506e-01, -6.66412190e-02,\n",
              "        2.72533834e-01, -2.53651381e-01,  1.17851162e+00, -3.40852141e-01,\n",
              "       -3.00348699e-01, -1.77959085e-01, -5.00937343e-01, -8.24217141e-01,\n",
              "        4.17914659e-01,  5.04756331e-01,  7.90401474e-02,  3.69716138e-02,\n",
              "        6.24390721e-01, -7.45867848e-01, -1.32921794e-02, -2.00195517e-02,\n",
              "        1.00991917e+00,  1.89649105e-01,  7.67169535e-01,  7.46723056e-01,\n",
              "       -1.62883461e-01,  2.24190876e-01,  1.81847125e-01,  6.07285917e-01,\n",
              "        1.59655765e-01, -1.01984657e-01,  5.87128699e-02,  7.66538858e-01,\n",
              "        2.02366382e-01, -4.23252732e-01,  3.01592410e-01, -1.05116367e+00,\n",
              "        1.13408959e+00,  8.22237134e-02,  2.95535833e-01, -5.28454423e-01,\n",
              "       -2.07221612e-01,  2.72097975e-01,  2.17522040e-01, -1.05596614e+00,\n",
              "       -2.63771087e-01, -6.95770502e-01,  9.17810425e-02, -5.61135530e-01,\n",
              "       -4.50526327e-01,  2.71187991e-01,  6.19286239e-01,  1.60819516e-01,\n",
              "       -1.92250565e-01, -9.67369437e-01,  3.95997792e-01,  8.10956359e-01,\n",
              "        2.09358171e-01, -2.24529594e-01,  1.65446356e-01,  2.41653979e-01,\n",
              "        5.93356043e-03, -4.59911972e-01,  6.13790751e-01,  2.03650445e-01,\n",
              "       -5.57314336e-01, -2.56545722e-01, -6.26813173e-01,  1.03230226e+00,\n",
              "        2.49257517e+00, -2.82895595e-01,  1.01302123e+00,  8.13744739e-02,\n",
              "       -5.52832365e-01,  6.86598122e-02, -2.77993321e-01,  2.03545898e-01,\n",
              "       -8.93699601e-02, -3.20770025e-01, -8.48027945e-01,  1.36981714e+00,\n",
              "        1.24667633e+00,  8.54730725e-01,  9.72904682e-01,  2.78923750e-01,\n",
              "        3.13538283e-01, -1.72695190e-01, -4.72018480e-01, -6.34417355e-01,\n",
              "       -7.96963573e-01,  4.40120965e-01, -1.51974661e-02, -3.25585276e-01,\n",
              "       -1.53205872e-01,  3.87147188e-01,  1.04721439e+00,  3.00699055e-01,\n",
              "       -7.90193558e-01,  4.09478039e-01, -3.97409439e-01, -5.28572917e-01,\n",
              "       -5.92054784e-01,  8.46753791e-02,  9.55054879e-01, -4.63551491e-01,\n",
              "       -7.90453255e-01,  2.95134217e-01, -6.17435038e-01,  9.75441746e-03,\n",
              "        1.06638916e-01, -5.51655173e-01, -4.72295761e-01,  9.01321471e-02,\n",
              "       -1.64338768e-01, -4.36566949e-01, -6.71863258e-01,  5.18172622e-01,\n",
              "        1.81723356e-01,  3.50343704e-01, -3.05825979e-01,  1.54792160e-01,\n",
              "       -2.87891746e-01,  3.44623119e-01,  2.79389292e-01, -1.47479668e-01,\n",
              "       -4.90937412e-01,  3.22381735e-01, -1.58473939e-01, -7.08068550e-01,\n",
              "       -4.44412351e-01,  1.34138227e-01,  6.15723245e-03, -6.32968247e-01,\n",
              "       -2.24349093e+00,  5.40364981e-01,  1.09671509e+00, -5.58623314e-01,\n",
              "       -5.12086093e-01,  3.87330949e-01,  8.19513679e-01,  2.80689836e-01,\n",
              "       -2.09649503e-01, -3.97610590e-02,  6.06084019e-02, -3.76884878e-01,\n",
              "       -4.82971311e-01,  4.65873256e-02, -8.04423690e-01,  3.56061071e-01,\n",
              "       -4.02779311e-01, -3.37147176e-01, -4.25337046e-01,  1.12469308e-01,\n",
              "        7.26549089e-01,  1.16195869e+00, -5.21913767e-01, -1.72422558e-01,\n",
              "       -9.42686051e-02, -2.69969225e-01,  9.87322509e-01,  1.20253086e+00,\n",
              "       -2.46757150e-01, -2.86628213e-02, -2.83275872e-01, -4.18495476e-01,\n",
              "       -4.86125767e-01,  3.62953633e-01, -1.86018869e-01, -8.16103160e-01,\n",
              "       -8.66076499e-02,  1.00096726e+00,  3.04163933e-01, -6.03507459e-01,\n",
              "       -1.51401252e-01,  3.71447414e-01,  3.84387553e-01,  1.26879454e-01,\n",
              "        6.93229020e-01,  8.30381215e-01, -3.18978056e-02, -8.27504098e-02,\n",
              "       -3.76996666e-01,  4.64359187e-02, -1.09455891e-01,  1.85508415e-01,\n",
              "       -1.88337892e-01, -4.30531293e-01,  7.51292169e-01, -6.10730171e-01,\n",
              "       -4.22202796e-02, -2.40898296e-01, -7.24600911e-01, -4.26534265e-01,\n",
              "        5.73623180e-01,  2.56274790e-01,  1.61011565e+00,  8.66570115e-01,\n",
              "        3.84146571e-02, -8.56028721e-02, -8.29923749e-01,  2.71305382e-01,\n",
              "       -3.72965842e-01, -5.55358827e-01,  3.60225767e-01, -4.48827334e-02,\n",
              "        5.36943376e-01, -6.28522158e-01, -5.85233808e-01, -1.21889973e+00,\n",
              "        1.63163936e+00,  9.09661591e-01,  6.53774381e-01,  4.17400867e-01,\n",
              "       -4.50711608e-01, -2.05442131e-01, -3.66192102e-01,  3.94949280e-02,\n",
              "       -2.06773281e-01, -3.05816978e-01, -2.29112118e-01,  4.13861834e-02,\n",
              "        3.24317873e-01, -2.41720676e-01, -1.49242416e-01, -2.10478544e-01,\n",
              "       -4.18728709e-01, -4.13231939e-01,  7.70971298e-01, -3.16970319e-01,\n",
              "        6.27923250e-01,  1.30728865e+00,  4.68275696e-01, -5.17051518e-01,\n",
              "       -1.05164371e-01,  3.61002833e-02, -3.67227167e-01, -4.44452882e-01,\n",
              "        1.76778126e+00, -3.16175282e-01, -1.84738562e-01,  3.92854393e-01,\n",
              "        2.34387517e-01,  2.99363583e-01,  5.70489407e-01,  5.47939301e-01,\n",
              "       -2.90444136e-01,  1.52301878e-01,  5.82518995e-01,  5.29836893e-01,\n",
              "        2.10188127e+00, -1.30345464e-01,  4.98616584e-02,  2.08730176e-01,\n",
              "       -7.80634061e-02, -2.71802880e-02, -3.83390814e-01, -5.99485859e-02,\n",
              "       -1.35624170e+00,  2.16575980e-01,  7.50477687e-02, -1.22441866e-01,\n",
              "       -7.09759057e-01,  8.12140524e-01,  9.41334292e-03, -2.64803141e-01,\n",
              "        5.59218049e-01, -2.25681916e-01,  1.49649546e-01,  1.34756982e+00,\n",
              "       -3.82620931e-01, -2.80701458e-01, -1.96242392e-01, -4.23876107e-01,\n",
              "       -1.64206997e-01, -1.46026567e-01,  5.30540571e-02, -1.89903274e-01,\n",
              "        5.71654558e-01, -8.55246305e-01,  4.59158242e-01, -2.61840671e-01,\n",
              "        1.00073643e-01,  3.21080476e-01,  5.65338843e-02,  4.74153280e-01,\n",
              "       -4.04113561e-01, -2.47767061e-01, -5.25094755e-03,  1.38882890e-01,\n",
              "       -1.48392603e-01, -4.81692374e-01,  2.77573187e-02,  2.68978953e-01,\n",
              "        1.18796825e+00, -6.43957376e-01,  2.84570992e-01,  2.06027210e-01,\n",
              "       -6.15893722e-01,  3.67304802e-01, -5.95820010e-01, -7.21059918e-01,\n",
              "        1.03099428e-01,  5.41428626e-01,  5.51307201e-01, -6.12996042e-01,\n",
              "        3.41945410e-01, -5.40069580e-01, -6.23011813e-02, -1.31700647e+00,\n",
              "       -5.02254486e-01,  1.66773885e-01, -5.22927046e-01, -2.98993550e-02,\n",
              "       -5.15382648e-01, -1.97588608e-01, -1.25331414e+00,  4.78086025e-01,\n",
              "        2.31718823e-01, -1.46470755e-01,  1.00394857e+00, -9.02564153e-02,\n",
              "       -5.24057448e-01, -5.81979394e-01, -9.65813454e-03, -1.01170642e-03,\n",
              "        3.21213663e-01,  1.18540064e-01, -4.35282409e-01, -3.94654363e-01,\n",
              "       -1.52822101e+00, -1.12890929e-01,  6.05327487e-01, -1.16424406e+00,\n",
              "        1.56256080e-01, -1.21977854e+00, -2.81635046e-01, -8.76685739e-01,\n",
              "       -8.08588982e-01,  7.34467700e-04,  9.37507093e-01,  1.73536554e-01,\n",
              "       -7.08008945e-01,  6.41343951e-01,  5.72427869e-01,  2.92826951e-01,\n",
              "        1.41884713e-02,  2.09762916e-01,  2.49210864e-01, -1.10368097e+00,\n",
              "        2.71371126e-01,  3.07687551e-01,  5.39910078e-01, -4.96764511e-01,\n",
              "        4.27078962e-01,  4.27575022e-01, -1.89650655e+00, -3.72449696e-01,\n",
              "       -1.17914408e-01, -6.35786831e-01,  2.00446043e-03, -5.25994524e-02,\n",
              "        3.05075765e-01,  1.13694780e-01,  3.49240601e-01,  2.83995122e-02,\n",
              "       -6.05759144e-01, -4.14978951e-01, -5.29058695e-01, -1.55240491e-01,\n",
              "        9.60577905e-01,  1.10537815e+00, -1.01387188e-01, -1.10536611e+00,\n",
              "        1.20802470e-01,  6.48706615e-01, -5.72424412e-01,  2.39568993e-01,\n",
              "        6.94829702e-01, -1.96900174e-01,  9.36550871e-02,  1.45254421e+00,\n",
              "        4.03185874e-01, -2.09829450e-01, -3.18773925e-01,  9.76255953e-01,\n",
              "       -2.64048576e-01,  2.92212874e-01, -5.47068536e-01,  5.60756564e-01,\n",
              "       -3.96532089e-01, -1.05146897e+00,  5.97303137e-02,  5.47387481e-01,\n",
              "       -4.07373995e-01,  4.08963621e-01,  3.51098537e-01, -5.25756717e-01,\n",
              "        3.79228652e-01,  1.80111289e-01,  3.81384790e-01, -3.82240355e-01,\n",
              "        1.07061458e+00, -1.35394961e-01,  3.69287372e-01,  2.00332597e-01,\n",
              "        2.44069383e-01,  6.69776350e-02,  5.68154037e-01,  3.86293173e-01,\n",
              "        3.00093681e-01, -7.64652133e-01, -7.07747579e-01,  1.38508344e+00,\n",
              "        4.92497385e-01, -1.21367246e-01, -4.82965857e-01, -5.39362252e-01,\n",
              "       -3.40678900e-01, -4.32660393e-02,  1.14624000e+00, -4.60672230e-01,\n",
              "        6.72714636e-02, -5.22837162e-01, -2.66197503e-01,  2.74719059e-01,\n",
              "       -7.61919498e-01,  3.20192054e-02, -1.17980510e-01, -2.01083720e-01,\n",
              "        6.07253313e-01,  9.61300373e-01,  4.02695596e-01,  3.05887293e-02,\n",
              "       -4.89445806e-01, -4.27974552e-01, -1.93093643e-01, -7.65755951e-01,\n",
              "       -3.92801583e-01,  9.53118354e-02,  7.70170450e-01, -3.34983366e-03,\n",
              "        7.27392957e-02,  2.01965988e-01, -8.36544260e-02, -5.22334762e-02,\n",
              "       -1.56112850e+00, -5.71700871e-01, -6.12066984e-01, -2.43489742e-01,\n",
              "        5.29941082e-01,  8.27194273e-01,  5.80861986e-01,  5.80331028e-01,\n",
              "       -1.53325856e-01,  4.16254215e-02,  8.58476665e-03,  9.43321466e-01,\n",
              "       -2.36293793e-01,  5.97716153e-01, -2.06999198e-01, -5.10674000e-01,\n",
              "       -3.18656236e-01, -5.80503941e-01, -5.97110391e-01, -6.21993661e-01,\n",
              "       -9.08657372e-01,  3.42647374e-01, -6.15936816e-02, -1.19960226e-01,\n",
              "        9.15184677e-01,  3.21339756e-01, -2.62100548e-01, -1.30225763e-01,\n",
              "        1.29927039e+00, -7.49221325e-01,  9.09422696e-01, -2.80939639e-01,\n",
              "       -5.40748119e-01, -5.45485437e-01, -6.90044641e-01,  3.18600059e-01,\n",
              "       -1.67927706e+00, -7.67294824e-01, -3.11765462e-01,  2.30778813e-01,\n",
              "       -9.14200693e-02,  8.22404087e-01, -4.90780950e-01,  7.69142881e-02,\n",
              "        2.18997672e-01,  2.98602134e-01, -1.49084404e-01,  1.42874047e-01,\n",
              "       -3.52791399e-01,  1.53821111e-01, -7.94125319e-01, -1.38928339e-01,\n",
              "        8.19763690e-02, -1.91488788e-02, -4.55656767e-01,  1.48642823e-01,\n",
              "       -4.49325323e-01, -8.99607688e-03, -1.04641914e-01,  2.58991748e-01,\n",
              "        8.05014744e-02, -1.86871514e-01,  3.98321658e-01, -5.69537021e-02,\n",
              "       -4.55088347e-01,  3.39211732e-01, -7.60650039e-01, -3.41930389e-01,\n",
              "        4.54132050e-01, -3.61330897e-01, -3.05287451e-01, -1.01788735e+00,\n",
              "        2.90195316e-01,  5.52719772e-01, -7.75565207e-01,  3.76632325e-02,\n",
              "        1.77016452e-01, -8.07379246e-01,  5.73665872e-02,  2.50747539e-02,\n",
              "       -9.11193430e-01,  2.07361311e-01,  1.04585558e-01, -2.26305604e-01,\n",
              "        4.55134809e-02,  4.71468300e-01, -1.69280440e-01,  3.58692616e-01,\n",
              "        2.65193969e-01,  1.00672495e+00,  4.03361410e-01,  8.79464030e-01,\n",
              "       -7.37631083e-01,  3.86670470e-01, -4.66234744e-01, -8.00864637e-01,\n",
              "        1.22632027e+00,  2.00658679e-01, -2.34882664e-02,  5.31057179e-01,\n",
              "        9.87146258e-01,  3.95737529e-01, -6.36219442e-01,  1.05239117e+00,\n",
              "       -4.28190112e-01, -4.00570892e-02,  2.72124290e-01,  1.17639288e-01,\n",
              "        4.72326666e-01, -1.24903850e-01,  9.06209648e-02,  7.14487970e-01,\n",
              "       -1.56542033e-01,  6.13421686e-02,  4.09395635e-01,  6.26138687e-01,\n",
              "        2.90858328e-01,  2.93998212e-01,  1.65787220e-01,  6.99630976e-01,\n",
              "        9.38069671e-02, -5.12537397e-02,  1.20229021e-01, -1.95034593e-01,\n",
              "        4.97086465e-01, -4.82872069e-01,  3.36965591e-01,  3.93620491e-01,\n",
              "       -2.97557265e-01,  2.62202024e-01, -1.80388525e-01, -1.44091034e+00,\n",
              "        3.15763503e-01, -9.85266864e-01,  4.62496221e-01, -6.32537425e-01,\n",
              "       -1.56170473e-01,  3.76054347e-01, -1.35179117e-01,  8.36962163e-01,\n",
              "       -4.76662695e-01, -7.13126838e-01,  1.08362094e-01, -1.58681586e-01,\n",
              "       -2.75854051e-01, -1.21599644e-01,  3.33733320e-01,  2.87791491e-01,\n",
              "       -2.63746887e-01, -2.14695573e-01,  1.20910132e+00,  2.17717126e-01,\n",
              "       -1.26251304e+00,  1.76276052e+00, -1.79218769e+00, -4.19952571e-01,\n",
              "        9.22164023e-01,  7.16877282e-02, -2.32080624e-01, -1.23130038e-01,\n",
              "        9.41251740e-02, -1.12776101e+00, -4.58353281e-01,  9.44741189e-01,\n",
              "        1.46639615e-01,  8.20562601e-01, -8.00675452e-01, -2.56856829e-01,\n",
              "        1.58155531e-01, -2.77643204e-01,  1.02554701e-01, -3.47367465e-03,\n",
              "       -6.74816892e-02, -6.34874105e-01,  2.28011698e-01, -6.17299080e-01,\n",
              "       -4.98019755e-02, -3.84692818e-01,  1.61961064e-01,  7.55512238e-01,\n",
              "       -6.23902500e-01, -1.14498772e-01, -1.87855139e-01, -8.54947865e-01,\n",
              "        6.55526817e-02,  1.70917869e-01,  1.11669600e+00,  2.18498960e-01,\n",
              "        2.88041770e-01, -5.81262350e-01, -8.05257916e-01, -6.29615903e-01,\n",
              "       -5.62640131e-01,  3.75680447e-01, -1.76368967e-01, -3.12072456e-01,\n",
              "       -5.55322886e-01,  3.88725162e-01, -1.02278543e+00, -2.55990237e-01,\n",
              "        3.30751613e-02,  2.13041827e-01,  2.61528254e-01, -1.11667407e+00,\n",
              "        3.50153416e-01,  9.51592147e-01, -9.94859159e-01,  4.39665705e-01,\n",
              "       -5.14433205e-01, -7.06414521e-01, -7.74156690e-01, -3.23990494e-01,\n",
              "       -8.06896985e-01, -1.44618303e-01,  7.24463403e-01, -2.34538585e-01,\n",
              "        2.38608450e-01,  3.44398260e-01,  4.68092740e-01,  1.70619845e-01],\n",
              "      dtype=float32)"
            ]
          },
          "metadata": {
            "tags": []
          },
          "execution_count": 21
        }
      ]
    },
    {
      "cell_type": "code",
      "metadata": {
        "id": "HYewQa3YpcbG",
        "outputId": "95789a25-3b88-4eff-8502-5e44b5341073",
        "colab": {
          "base_uri": "https://localhost:8080/",
          "height": 323
        }
      },
      "source": [
        "similarities = cosine_similarity(text_embeddings)\n",
        "print('pairwise dense output:\\n {}\\n'.format(similarities))"
      ],
      "execution_count": null,
      "outputs": [
        {
          "output_type": "stream",
          "text": [
            "pairwise dense output:\n",
            " [[0.9999999  0.73151094 0.6046201  0.61174655 0.28593335 0.28101337\n",
            "  0.5809742  0.60881454]\n",
            " [0.73151094 0.9999997  0.5602956  0.60428786 0.23841025 0.30871877\n",
            "  0.5798251  0.5946494 ]\n",
            " [0.6046201  0.5602956  1.         0.85126555 0.2170505  0.33635983\n",
            "  0.44095552 0.42231077]\n",
            " [0.61174655 0.60428786 0.85126555 1.0000001  0.24565016 0.39271736\n",
            "  0.44883895 0.46855572]\n",
            " [0.28593335 0.23841025 0.2170505  0.24565016 1.0000004  0.34194955\n",
            "  0.22930798 0.28988248]\n",
            " [0.28101337 0.30871877 0.33635983 0.39271736 0.34194955 1.0000002\n",
            "  0.30893183 0.27376795]\n",
            " [0.5809742  0.5798251  0.44095552 0.44883895 0.22930798 0.30893183\n",
            "  0.9999999  0.646995  ]\n",
            " [0.60881454 0.5946494  0.42231077 0.46855572 0.28988248 0.27376795\n",
            "  0.646995   1.0000002 ]]\n",
            "\n"
          ],
          "name": "stdout"
        }
      ]
    },
    {
      "cell_type": "code",
      "metadata": {
        "id": "k3a0CTR8plDT"
      },
      "source": [
        "similarities_sorted = similarities.argsort()"
      ],
      "execution_count": null,
      "outputs": []
    },
    {
      "cell_type": "code",
      "metadata": {
        "id": "jEOS6Eh3DqGl",
        "outputId": "c54b75bd-d39f-48de-9309-efd3ef41d164",
        "colab": {
          "base_uri": "https://localhost:8080/",
          "height": 153
        }
      },
      "source": [
        "similarities_sorted"
      ],
      "execution_count": null,
      "outputs": [
        {
          "output_type": "execute_result",
          "data": {
            "text/plain": [
              "array([[5, 4, 6, 2, 7, 3, 1, 0],\n",
              "       [4, 5, 2, 6, 7, 3, 0, 1],\n",
              "       [4, 5, 7, 6, 1, 0, 3, 2],\n",
              "       [4, 5, 6, 7, 1, 0, 2, 3],\n",
              "       [2, 6, 1, 3, 0, 7, 5, 4],\n",
              "       [7, 0, 1, 6, 2, 4, 3, 5],\n",
              "       [4, 5, 2, 3, 1, 0, 7, 6],\n",
              "       [5, 4, 2, 3, 1, 0, 6, 7]])"
            ]
          },
          "metadata": {
            "tags": []
          },
          "execution_count": 24
        }
      ]
    },
    {
      "cell_type": "code",
      "metadata": {
        "id": "42w-B20vvtap"
      },
      "source": [
        "# Get list of similarity indices i.e. doc at index 0 simialr with doc at index 1169 below.\n",
        "id_1 = []\n",
        "id_2 = []\n",
        "score = []\n",
        "for index,array in enumerate(similarities_sorted):\n",
        "    id_1.append(index)\n",
        "    id_2.append(array[-2])\n",
        "    score.append(similarities[index][array[-2]])"
      ],
      "execution_count": null,
      "outputs": []
    },
    {
      "cell_type": "code",
      "metadata": {
        "id": "8w83Mc58v25E"
      },
      "source": [
        "index_df = pd.DataFrame({'id_1' : id_1,\n",
        "                          'id_2' : id_2,\n",
        "                          'score' : score})"
      ],
      "execution_count": null,
      "outputs": []
    },
    {
      "cell_type": "code",
      "metadata": {
        "id": "kJNyTqEkv4Wc",
        "outputId": "62cdbf21-4904-46d0-e336-766ce2d83870",
        "colab": {
          "base_uri": "https://localhost:8080/",
          "height": 297
        }
      },
      "source": [
        "index_df"
      ],
      "execution_count": null,
      "outputs": [
        {
          "output_type": "execute_result",
          "data": {
            "text/html": [
              "<div>\n",
              "<style scoped>\n",
              "    .dataframe tbody tr th:only-of-type {\n",
              "        vertical-align: middle;\n",
              "    }\n",
              "\n",
              "    .dataframe tbody tr th {\n",
              "        vertical-align: top;\n",
              "    }\n",
              "\n",
              "    .dataframe thead th {\n",
              "        text-align: right;\n",
              "    }\n",
              "</style>\n",
              "<table border=\"1\" class=\"dataframe\">\n",
              "  <thead>\n",
              "    <tr style=\"text-align: right;\">\n",
              "      <th></th>\n",
              "      <th>id_1</th>\n",
              "      <th>id_2</th>\n",
              "      <th>score</th>\n",
              "    </tr>\n",
              "  </thead>\n",
              "  <tbody>\n",
              "    <tr>\n",
              "      <th>0</th>\n",
              "      <td>0</td>\n",
              "      <td>1</td>\n",
              "      <td>0.731511</td>\n",
              "    </tr>\n",
              "    <tr>\n",
              "      <th>1</th>\n",
              "      <td>1</td>\n",
              "      <td>0</td>\n",
              "      <td>0.731511</td>\n",
              "    </tr>\n",
              "    <tr>\n",
              "      <th>2</th>\n",
              "      <td>2</td>\n",
              "      <td>3</td>\n",
              "      <td>0.851266</td>\n",
              "    </tr>\n",
              "    <tr>\n",
              "      <th>3</th>\n",
              "      <td>3</td>\n",
              "      <td>2</td>\n",
              "      <td>0.851266</td>\n",
              "    </tr>\n",
              "    <tr>\n",
              "      <th>4</th>\n",
              "      <td>4</td>\n",
              "      <td>5</td>\n",
              "      <td>0.341950</td>\n",
              "    </tr>\n",
              "    <tr>\n",
              "      <th>5</th>\n",
              "      <td>5</td>\n",
              "      <td>3</td>\n",
              "      <td>0.392717</td>\n",
              "    </tr>\n",
              "    <tr>\n",
              "      <th>6</th>\n",
              "      <td>6</td>\n",
              "      <td>7</td>\n",
              "      <td>0.646995</td>\n",
              "    </tr>\n",
              "    <tr>\n",
              "      <th>7</th>\n",
              "      <td>7</td>\n",
              "      <td>6</td>\n",
              "      <td>0.646995</td>\n",
              "    </tr>\n",
              "  </tbody>\n",
              "</table>\n",
              "</div>"
            ],
            "text/plain": [
              "   id_1  id_2     score\n",
              "0     0     1  0.731511\n",
              "1     1     0  0.731511\n",
              "2     2     3  0.851266\n",
              "3     3     2  0.851266\n",
              "4     4     5  0.341950\n",
              "5     5     3  0.392717\n",
              "6     6     7  0.646995\n",
              "7     7     6  0.646995"
            ]
          },
          "metadata": {
            "tags": []
          },
          "execution_count": 14
        }
      ]
    },
    {
      "cell_type": "code",
      "metadata": {
        "id": "_PbuODLSv5or"
      },
      "source": [],
      "execution_count": null,
      "outputs": []
    }
  ]
}